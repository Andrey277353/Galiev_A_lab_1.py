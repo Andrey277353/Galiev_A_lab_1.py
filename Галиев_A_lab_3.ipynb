# %% [markdown]
# 
# # Обработка данных — лабораторная работа №3  
# **Автор:** Андрей Галиев  
# **Формат:**  → `Галиев_A_lab_3.ipynb`
# 
# Этапы:
# 1. Открытие файла
# 2. Обзор и проверка разделителя/типов
# 3. Очистка пропусков и дубликатов
# 4. Преобразование типов
# 5. Кодирование категориальных признаков (бинарные: `0` — male, `1` — female)
# 6. Масштабирование (при необходимости)
# 7. Корреляция числовых признаков
# 8. Сохранение «чистой» версии датасета
# 

# %%

# 1) Импорт
import pandas as pd
import numpy as np
import matplotlib.pyplot as plt
pd.set_option("display.max_columns", 100)
pd.set_option("display.width", 120)


# %%

# 2) Открытие с авто-определением разделителя
# 2.1) Поиск и открытие файла DB_3.csv
import os
from pathlib import Path
import pandas as pd

# Возможные места хранения файла
candidates = [
    Path("DB_3.csv"),  # рядом с ноутбуком
    Path.cwd() / "DB_3.csv",
    Path.home() / "Downloads" / "DB_3.csv",
    Path.home() / "Desktop" / "DB_3.csv",
    Path(r"C:\Users\Andrey\Downloads\DB_3.csv"),  # мой случай
]

path = None
for p in candidates:
    if p.exists():
        path = p
        break

if path is None:
    raise FileNotFoundError(
        "Файл DB_3.csv не найден. "
        "Положи его рядом с ноутбуком или укажи полный путь в переменной `path`."
    )

print("Использую файл:", path)
df = pd.read_csv(path, sep=None, engine="python")
print("Размеры исходного датасета:", df.shape)
df.head()
df = pd.read_csv(path, sep=None, engine='python')
print("Размеры исходного датасета:", df.shape)
df.head()


# %%

# 3) Обзор: столбцы/типы/NaN/дубликаты
print("Столбцы:", list(df.columns))
print("\nТипы данных:")
print(df.dtypes)
print("\nNaN по столбцам:")
print(df.isna().sum())
print("\nДубликаты строк:", df.duplicated().sum())


# %%

# 4) Стандартизация названий столбцов
df.columns = [str(c).strip() for c in df.columns]
df.columns = [c.replace("\n", " ").replace("\r", " ") for c in df.columns]
df.columns = ["_".join(c.split()) for c in df.columns]
df.head(1)


# %%

# 5) Удаление дубликатов
before = len(df)
df = df.drop_duplicates().reset_index(drop=True)
print(f"Удалено дубликатов: {before - len(df)}; текущий размер: {df.shape}")


# %%

# 6) Преобразование потенциально числовых колонок
for col in df.columns:
    try_series = pd.to_numeric(df[col], errors="coerce")
    na_ratio_before = df[col].isna().mean() if hasattr(df[col], "isna") else 0
    na_ratio_after  = try_series.isna().mean()
    if na_ratio_after <= na_ratio_before + 0.05 and try_series.notna().sum() > 0:
        df[col] = try_series
print(df.dtypes.head(20))


# %%

# 7) Кодирование бинарных признаков (пример: пол)
gender_like = [c for c in df.columns if c.lower() in {"gender","sex","пол"}]
mapping_known = {
    "male": 0, "м": 0, "m": 0, "man": 0, "муж": 0, "мужчина": 0,
    "female": 1, "ж": 1, "f": 1, "woman": 1, "жен": 1, "женщина": 1,
}
for col in gender_like:
    if df[col].dtype == "O":
        df[col] = df[col].astype(str).str.strip().str.lower().map(mapping_known)
    uniques = [u for u in pd.unique(df[col]) if pd.notna(u)]
    if len(uniques) == 2 and set(uniques) <= {0,1}:
        pass
    elif len(uniques) == 2:
        u0, u1 = uniques[0], uniques[1]
        df[col] = df[col].map({u0:0, u1:1})
for col in gender_like:
    print(col, "→ уникальные:", pd.unique(df[col]))


# %%

# 8) One-Hot Encoding для низкой кардинальности
max_cardinality = 30
object_cols = [c for c in df.columns if df[c].dtype == "O"]
low_card_cols = [c for c in object_cols if df[c].nunique(dropna=True) <= max_cardinality]
print("Категориальные столбцы для OHE:", low_card_cols)
df = pd.get_dummies(df, columns=low_card_cols, dummy_na=False, drop_first=True)
print("Размер после OHE:", df.shape)


# %%

# 9) Обработка пропусков (числовые — медианой)
num_cols = [c for c in df.columns if pd.api.types.is_numeric_dtype(df[c])]
for col in num_cols:
    if df[col].isna().any():
        df[col] = df[col].fillna(df[col].median())
print("Осталось пропусков:", int(df.isna().sum().sum()))


# %%

# 10) Корреляция по числовым
corr = df.corr(numeric_only=True)
corr


# %%

# Визуализация корреляции (без явной настройки цветов)
import matplotlib.pyplot as plt
plt.figure(figsize=(8,6))
plt.imshow(corr, interpolation='nearest')
plt.title("Correlation heatmap")
plt.xticks(range(len(corr.columns)), corr.columns, rotation=90)
plt.yticks(range(len(corr.index)), corr.index)
plt.colorbar()
plt.tight_layout()
plt.show()


# %%

# 11) Сохранение очищенного датасета
out_path = "DB_3_clean.csv"
df.to_csv(out_path, index=False)
print("Сохранено:", out_path, "размер:", df.shape)
